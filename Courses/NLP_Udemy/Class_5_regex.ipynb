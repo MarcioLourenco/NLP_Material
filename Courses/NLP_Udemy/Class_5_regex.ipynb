{
 "cells": [
  {
   "cell_type": "code",
   "execution_count": 1,
   "id": "eb67fb75-7acc-4e63-9118-f15107ad14db",
   "metadata": {
    "tags": []
   },
   "outputs": [],
   "source": [
    "text = \"The phone is mine (11) 97158-4254.\""
   ]
  },
  {
   "cell_type": "code",
   "execution_count": 2,
   "id": "749fe28c-3fca-4404-a9a0-2b2d95a82dd1",
   "metadata": {
    "tags": []
   },
   "outputs": [
    {
     "data": {
      "text/plain": [
       "True"
      ]
     },
     "execution_count": 2,
     "metadata": {},
     "output_type": "execute_result"
    }
   ],
   "source": [
    "\"phone\" in text"
   ]
  },
  {
   "cell_type": "code",
   "execution_count": 3,
   "id": "b0686715-1f1e-414b-9e8a-bb233e53a926",
   "metadata": {
    "tags": []
   },
   "outputs": [],
   "source": [
    "import re"
   ]
  },
  {
   "cell_type": "code",
   "execution_count": 4,
   "id": "409b9db3-57f4-42be-975e-039d97141fd9",
   "metadata": {
    "tags": []
   },
   "outputs": [],
   "source": [
    "pattern = \"phone\""
   ]
  },
  {
   "cell_type": "code",
   "execution_count": 5,
   "id": "34e6632c-7255-4cd0-8dd2-789d3849d3d9",
   "metadata": {
    "tags": []
   },
   "outputs": [],
   "source": [
    "mymatch = re.search(pattern, text)"
   ]
  },
  {
   "cell_type": "code",
   "execution_count": 7,
   "id": "a22f7885-b750-4826-8a5c-81c6070c1710",
   "metadata": {
    "tags": []
   },
   "outputs": [
    {
     "data": {
      "text/plain": [
       "(4, 9)"
      ]
     },
     "execution_count": 7,
     "metadata": {},
     "output_type": "execute_result"
    }
   ],
   "source": [
    "mymatch.span()"
   ]
  },
  {
   "cell_type": "code",
   "execution_count": null,
   "id": "b916dcbb-571e-48ba-8d85-fafb08f33f84",
   "metadata": {},
   "outputs": [],
   "source": [
    "mymatch.span()"
   ]
  }
 ],
 "metadata": {
  "kernelspec": {
   "display_name": "Python 3 (ipykernel)",
   "language": "python",
   "name": "python3"
  },
  "language_info": {
   "codemirror_mode": {
    "name": "ipython",
    "version": 3
   },
   "file_extension": ".py",
   "mimetype": "text/x-python",
   "name": "python",
   "nbconvert_exporter": "python",
   "pygments_lexer": "ipython3",
   "version": "3.7.4"
  }
 },
 "nbformat": 4,
 "nbformat_minor": 5
}
