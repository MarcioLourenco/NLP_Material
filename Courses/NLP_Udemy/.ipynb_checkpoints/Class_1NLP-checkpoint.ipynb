{
 "cells": [
  {
   "cell_type": "code",
   "execution_count": 2,
   "id": "eb67fb75-7acc-4e63-9118-f15107ad14db",
   "metadata": {
    "tags": []
   },
   "outputs": [
    {
     "name": "stdout",
     "output_type": "stream",
     "text": [
      "hello\n"
     ]
    }
   ],
   "source": [
    "print('hello')"
   ]
  },
  {
   "cell_type": "code",
   "execution_count": 11,
   "id": "183076a9-de03-450d-956c-4318744ec221",
   "metadata": {
    "tags": []
   },
   "outputs": [
    {
     "name": "stdout",
     "output_type": "stream",
     "text": [
      "My name is Marcio.\n"
     ]
    }
   ],
   "source": [
    "name = \"Marcio\"\n",
    "\n",
    "print(f\"My name is {name}.\")"
   ]
  },
  {
   "cell_type": "code",
   "execution_count": 12,
   "id": "e30903b9-bec7-47d3-a893-6f7a2e4ed141",
   "metadata": {
    "tags": []
   },
   "outputs": [
    {
     "name": "stdout",
     "output_type": "stream",
     "text": [
      "My namber is 0.\n"
     ]
    }
   ],
   "source": [
    "d = {\"a\":123, \"b\":234}\n",
    "mylist = [0,1,2]\n",
    "\n",
    "print(f\"My namber is {mylist[0]}.\")"
   ]
  },
  {
   "cell_type": "code",
   "execution_count": 15,
   "id": "7d271fd4",
   "metadata": {
    "tags": []
   },
   "outputs": [],
   "source": [
    "library = [(\"Author\", \"Topic\", \"Pages\"), (\"Marcio\", \"IA\", 12), (\"Roberto\", \"Products\",45)]"
   ]
  },
  {
   "cell_type": "code",
   "execution_count": 36,
   "id": "9f91b629-240d-43ef-a7e4-69dd3e202576",
   "metadata": {
    "tags": []
   },
   "outputs": [
    {
     "name": "stdout",
     "output_type": "stream",
     "text": [
      "Author     Topic      .....Pages\n",
      "Marcio     IA         ........12\n",
      "Roberto    Products   ........45\n"
     ]
    }
   ],
   "source": [
    "for author, topic, pages in library:\n",
    "    print(f\"{author:{10}} {topic:{10}} {pages:.>{10}}\")"
   ]
  },
  {
   "cell_type": "code",
   "execution_count": 37,
   "id": "1f7f050b-6966-4f84-b099-1465fd6758c7",
   "metadata": {
    "tags": []
   },
   "outputs": [],
   "source": [
    "from datetime import datetime"
   ]
  },
  {
   "cell_type": "code",
   "execution_count": 38,
   "id": "167ada78-5452-4f9b-af09-f8a50dc2a03a",
   "metadata": {
    "tags": []
   },
   "outputs": [],
   "source": [
    "today = datetime(year=2018, month=2, day=1)"
   ]
  },
  {
   "cell_type": "code",
   "execution_count": 40,
   "id": "9da2ef40-1547-4fd4-8240-287235dde12e",
   "metadata": {
    "tags": []
   },
   "outputs": [
    {
     "name": "stdout",
     "output_type": "stream",
     "text": [
      "2018-02-01 00:00:00\n"
     ]
    }
   ],
   "source": [
    "print(today)"
   ]
  },
  {
   "cell_type": "code",
   "execution_count": null,
   "id": "09b6b276-38da-4796-a64e-dac5d2a4e844",
   "metadata": {},
   "outputs": [],
   "source": []
  }
 ],
 "metadata": {
  "kernelspec": {
   "display_name": "Python 3 (ipykernel)",
   "language": "python",
   "name": "python3"
  },
  "language_info": {
   "codemirror_mode": {
    "name": "ipython",
    "version": 3
   },
   "file_extension": ".py",
   "mimetype": "text/x-python",
   "name": "python",
   "nbconvert_exporter": "python",
   "pygments_lexer": "ipython3",
   "version": "3.7.4"
  }
 },
 "nbformat": 4,
 "nbformat_minor": 5
}
