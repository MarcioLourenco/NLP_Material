{
 "cells": [
  {
   "cell_type": "code",
   "execution_count": 1,
   "id": "eb67fb75-7acc-4e63-9118-f15107ad14db",
   "metadata": {
    "tags": []
   },
   "outputs": [],
   "source": [
    "import PyPDF2"
   ]
  },
  {
   "cell_type": "code",
   "execution_count": 2,
   "id": "6681f4d9-59f7-4f86-a91a-3341b52275ac",
   "metadata": {
    "tags": []
   },
   "outputs": [],
   "source": [
    "myfile = open(\"US_Declaration.pdf\", mode=\"rb\")"
   ]
  },
  {
   "cell_type": "code",
   "execution_count": 3,
   "id": "aa863b11-1d93-4a83-b294-73bea45b68b1",
   "metadata": {
    "tags": []
   },
   "outputs": [],
   "source": [
    "pdf_reader = PyPDF2.PdfReader(myfile)"
   ]
  },
  {
   "cell_type": "code",
   "execution_count": 4,
   "id": "f54f6177-c933-4c19-ab67-9c1d32cdd9b9",
   "metadata": {
    "tags": []
   },
   "outputs": [
    {
     "data": {
      "text/plain": [
       "5"
      ]
     },
     "execution_count": 4,
     "metadata": {},
     "output_type": "execute_result"
    }
   ],
   "source": [
    "len(pdf_reader.pages)"
   ]
  },
  {
   "cell_type": "code",
   "execution_count": 7,
   "id": "ccd41606-523e-4136-96aa-21f425160d29",
   "metadata": {
    "tags": []
   },
   "outputs": [],
   "source": [
    "readlines_pdf = []\n",
    "\n",
    "for page in range(len(pdf_reader.pages)):\n",
    "    readlines_pdf.append(pdf_reader.pages[page].extract_text())"
   ]
  },
  {
   "cell_type": "code",
   "execution_count": 23,
   "id": "4b21db6e-ddc9-475b-8a96-ec1dd97b7c8f",
   "metadata": {
    "tags": []
   },
   "outputs": [],
   "source": [
    "myfile.close()"
   ]
  }
 ],
 "metadata": {
  "kernelspec": {
   "display_name": "Python 3 (ipykernel)",
   "language": "python",
   "name": "python3"
  },
  "language_info": {
   "codemirror_mode": {
    "name": "ipython",
    "version": 3
   },
   "file_extension": ".py",
   "mimetype": "text/x-python",
   "name": "python",
   "nbconvert_exporter": "python",
   "pygments_lexer": "ipython3",
   "version": "3.7.4"
  }
 },
 "nbformat": 4,
 "nbformat_minor": 5
}
