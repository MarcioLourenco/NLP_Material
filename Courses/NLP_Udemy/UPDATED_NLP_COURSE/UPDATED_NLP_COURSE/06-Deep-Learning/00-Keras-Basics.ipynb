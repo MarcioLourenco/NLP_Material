{
 "cells": [
  {
   "cell_type": "markdown",
   "metadata": {},
   "source": [
    "___\n",
    "\n",
    "<a href='http://www.pieriandata.com'> <img src='../Pierian_Data_Logo.png' /></a>\n",
    "___\n",
    "\n",
    "# Keras Basics\n",
    "\n",
    "Welcome to the section on deep learning! We'll be using Keras with a TensorFlow backend to perform our deep learning operations.\n",
    "\n",
    "This means we should get familiar with some Keras fundamentals and basics!\n",
    "\n",
    "## Imports\n",
    "\n"
   ]
  },
  {
   "cell_type": "code",
   "execution_count": 1,
   "metadata": {
    "collapsed": true,
    "jupyter": {
     "outputs_hidden": true
    },
    "tags": []
   },
   "outputs": [],
   "source": [
    "import numpy as np"
   ]
  },
  {
   "cell_type": "markdown",
   "metadata": {},
   "source": [
    "## Dataset\n",
    "\n",
    "We will use the famous Iris Data set.\n",
    "_____\n",
    "More info on the data set:\n",
    "https://en.wikipedia.org/wiki/Iris_flower_data_set\n",
    "\n",
    "## Reading in the Data Set\n",
    "\n",
    "We've already downloaded the dataset, its in this folder. So let's open it up. "
   ]
  },
  {
   "cell_type": "code",
   "execution_count": 2,
   "metadata": {
    "collapsed": true,
    "jupyter": {
     "outputs_hidden": true
    },
    "tags": []
   },
   "outputs": [],
   "source": [
    "from sklearn.datasets import load_iris"
   ]
  },
  {
   "cell_type": "code",
   "execution_count": 3,
   "metadata": {
    "collapsed": true,
    "jupyter": {
     "outputs_hidden": true
    },
    "tags": []
   },
   "outputs": [],
   "source": [
    "iris = load_iris()"
   ]
  },
  {
   "cell_type": "code",
   "execution_count": 4,
   "metadata": {
    "tags": []
   },
   "outputs": [
    {
     "data": {
      "text/plain": [
       "sklearn.utils.Bunch"
      ]
     },
     "execution_count": 4,
     "metadata": {},
     "output_type": "execute_result"
    }
   ],
   "source": [
    "type(iris)"
   ]
  },
  {
   "cell_type": "code",
   "execution_count": 5,
   "metadata": {
    "tags": []
   },
   "outputs": [
    {
     "name": "stdout",
     "output_type": "stream",
     "text": [
      ".. _iris_dataset:\n",
      "\n",
      "Iris plants dataset\n",
      "--------------------\n",
      "\n",
      "**Data Set Characteristics:**\n",
      "\n",
      "    :Number of Instances: 150 (50 in each of three classes)\n",
      "    :Number of Attributes: 4 numeric, predictive attributes and the class\n",
      "    :Attribute Information:\n",
      "        - sepal length in cm\n",
      "        - sepal width in cm\n",
      "        - petal length in cm\n",
      "        - petal width in cm\n",
      "        - class:\n",
      "                - Iris-Setosa\n",
      "                - Iris-Versicolour\n",
      "                - Iris-Virginica\n",
      "                \n",
      "    :Summary Statistics:\n",
      "\n",
      "    ============== ==== ==== ======= ===== ====================\n",
      "                    Min  Max   Mean    SD   Class Correlation\n",
      "    ============== ==== ==== ======= ===== ====================\n",
      "    sepal length:   4.3  7.9   5.84   0.83    0.7826\n",
      "    sepal width:    2.0  4.4   3.05   0.43   -0.4194\n",
      "    petal length:   1.0  6.9   3.76   1.76    0.9490  (high!)\n",
      "    petal width:    0.1  2.5   1.20   0.76    0.9565  (high!)\n",
      "    ============== ==== ==== ======= ===== ====================\n",
      "\n",
      "    :Missing Attribute Values: None\n",
      "    :Class Distribution: 33.3% for each of 3 classes.\n",
      "    :Creator: R.A. Fisher\n",
      "    :Donor: Michael Marshall (MARSHALL%PLU@io.arc.nasa.gov)\n",
      "    :Date: July, 1988\n",
      "\n",
      "The famous Iris database, first used by Sir R.A. Fisher. The dataset is taken\n",
      "from Fisher's paper. Note that it's the same as in R, but not as in the UCI\n",
      "Machine Learning Repository, which has two wrong data points.\n",
      "\n",
      "This is perhaps the best known database to be found in the\n",
      "pattern recognition literature.  Fisher's paper is a classic in the field and\n",
      "is referenced frequently to this day.  (See Duda & Hart, for example.)  The\n",
      "data set contains 3 classes of 50 instances each, where each class refers to a\n",
      "type of iris plant.  One class is linearly separable from the other 2; the\n",
      "latter are NOT linearly separable from each other.\n",
      "\n",
      ".. topic:: References\n",
      "\n",
      "   - Fisher, R.A. \"The use of multiple measurements in taxonomic problems\"\n",
      "     Annual Eugenics, 7, Part II, 179-188 (1936); also in \"Contributions to\n",
      "     Mathematical Statistics\" (John Wiley, NY, 1950).\n",
      "   - Duda, R.O., & Hart, P.E. (1973) Pattern Classification and Scene Analysis.\n",
      "     (Q327.D83) John Wiley & Sons.  ISBN 0-471-22361-1.  See page 218.\n",
      "   - Dasarathy, B.V. (1980) \"Nosing Around the Neighborhood: A New System\n",
      "     Structure and Classification Rule for Recognition in Partially Exposed\n",
      "     Environments\".  IEEE Transactions on Pattern Analysis and Machine\n",
      "     Intelligence, Vol. PAMI-2, No. 1, 67-71.\n",
      "   - Gates, G.W. (1972) \"The Reduced Nearest Neighbor Rule\".  IEEE Transactions\n",
      "     on Information Theory, May 1972, 431-433.\n",
      "   - See also: 1988 MLC Proceedings, 54-64.  Cheeseman et al\"s AUTOCLASS II\n",
      "     conceptual clustering system finds 3 classes in the data.\n",
      "   - Many, many more ...\n"
     ]
    }
   ],
   "source": [
    "print(iris.DESCR)"
   ]
  },
  {
   "cell_type": "code",
   "execution_count": 6,
   "metadata": {
    "collapsed": true,
    "jupyter": {
     "outputs_hidden": true
    },
    "tags": []
   },
   "outputs": [],
   "source": [
    "X = iris.data"
   ]
  },
  {
   "cell_type": "code",
   "execution_count": 8,
   "metadata": {
    "tags": []
   },
   "outputs": [],
   "source": [
    "# X"
   ]
  },
  {
   "cell_type": "code",
   "execution_count": 9,
   "metadata": {
    "collapsed": true,
    "jupyter": {
     "outputs_hidden": true
    },
    "tags": []
   },
   "outputs": [],
   "source": [
    "y = iris.target"
   ]
  },
  {
   "cell_type": "code",
   "execution_count": 10,
   "metadata": {
    "tags": []
   },
   "outputs": [
    {
     "data": {
      "text/plain": [
       "array([0, 0, 0, 0, 0, 0, 0, 0, 0, 0, 0, 0, 0, 0, 0, 0, 0, 0, 0, 0, 0, 0,\n",
       "       0, 0, 0, 0, 0, 0, 0, 0, 0, 0, 0, 0, 0, 0, 0, 0, 0, 0, 0, 0, 0, 0,\n",
       "       0, 0, 0, 0, 0, 0, 1, 1, 1, 1, 1, 1, 1, 1, 1, 1, 1, 1, 1, 1, 1, 1,\n",
       "       1, 1, 1, 1, 1, 1, 1, 1, 1, 1, 1, 1, 1, 1, 1, 1, 1, 1, 1, 1, 1, 1,\n",
       "       1, 1, 1, 1, 1, 1, 1, 1, 1, 1, 1, 1, 2, 2, 2, 2, 2, 2, 2, 2, 2, 2,\n",
       "       2, 2, 2, 2, 2, 2, 2, 2, 2, 2, 2, 2, 2, 2, 2, 2, 2, 2, 2, 2, 2, 2,\n",
       "       2, 2, 2, 2, 2, 2, 2, 2, 2, 2, 2, 2, 2, 2, 2, 2, 2, 2])"
      ]
     },
     "execution_count": 10,
     "metadata": {},
     "output_type": "execute_result"
    }
   ],
   "source": [
    "y"
   ]
  },
  {
   "cell_type": "code",
   "execution_count": 11,
   "metadata": {
    "collapsed": true,
    "jupyter": {
     "outputs_hidden": true
    },
    "tags": []
   },
   "outputs": [],
   "source": [
    "from keras.utils import to_categorical"
   ]
  },
  {
   "cell_type": "code",
   "execution_count": 12,
   "metadata": {
    "collapsed": true,
    "jupyter": {
     "outputs_hidden": true
    },
    "tags": []
   },
   "outputs": [],
   "source": [
    "y = to_categorical(y)"
   ]
  },
  {
   "cell_type": "code",
   "execution_count": 14,
   "metadata": {
    "tags": []
   },
   "outputs": [
    {
     "data": {
      "text/plain": [
       "(150, 3)"
      ]
     },
     "execution_count": 14,
     "metadata": {},
     "output_type": "execute_result"
    }
   ],
   "source": [
    "y.shape"
   ]
  },
  {
   "cell_type": "markdown",
   "metadata": {},
   "source": [
    "## Split the Data into Training and Test\n",
    "\n",
    "Its time to split the data into a train/test set. Keep in mind, sometimes people like to split 3 ways, train/test/validation. We'll keep things simple for now. **Remember to check out the video explanation as to why we split and what all the parameters mean!**"
   ]
  },
  {
   "cell_type": "code",
   "execution_count": 15,
   "metadata": {
    "collapsed": true,
    "jupyter": {
     "outputs_hidden": true
    },
    "tags": []
   },
   "outputs": [],
   "source": [
    "from sklearn.model_selection import train_test_split"
   ]
  },
  {
   "cell_type": "code",
   "execution_count": 16,
   "metadata": {
    "collapsed": true,
    "jupyter": {
     "outputs_hidden": true
    },
    "tags": []
   },
   "outputs": [],
   "source": [
    "X_train, X_test, y_train, y_test = train_test_split(X, y, test_size=0.33, random_state=42)"
   ]
  },
  {
   "cell_type": "markdown",
   "metadata": {},
   "source": [
    "## Standardizing the Data\n",
    "\n",
    "Usually when using Neural Networks, you will get better performance when you standardize the data. Standardization just means normalizing the values to all fit between a certain range, like 0-1, or -1 to 1.\n",
    "\n",
    "The scikit learn library also provides a nice function for this.\n",
    "\n",
    "http://scikit-learn.org/stable/modules/generated/sklearn.preprocessing.MinMaxScaler.html"
   ]
  },
  {
   "cell_type": "code",
   "execution_count": 18,
   "metadata": {
    "collapsed": true,
    "jupyter": {
     "outputs_hidden": true
    },
    "tags": []
   },
   "outputs": [],
   "source": [
    "from sklearn.preprocessing import MinMaxScaler"
   ]
  },
  {
   "cell_type": "code",
   "execution_count": 19,
   "metadata": {
    "collapsed": true,
    "jupyter": {
     "outputs_hidden": true
    },
    "tags": []
   },
   "outputs": [],
   "source": [
    "scaler_object = MinMaxScaler()"
   ]
  },
  {
   "cell_type": "code",
   "execution_count": 20,
   "metadata": {
    "tags": []
   },
   "outputs": [
    {
     "data": {
      "text/plain": [
       "MinMaxScaler()"
      ]
     },
     "execution_count": 20,
     "metadata": {},
     "output_type": "execute_result"
    }
   ],
   "source": [
    "scaler_object.fit(X_train)"
   ]
  },
  {
   "cell_type": "code",
   "execution_count": 21,
   "metadata": {
    "collapsed": true,
    "jupyter": {
     "outputs_hidden": true
    },
    "tags": []
   },
   "outputs": [],
   "source": [
    "scaled_X_train = scaler_object.transform(X_train)"
   ]
  },
  {
   "cell_type": "code",
   "execution_count": 22,
   "metadata": {
    "collapsed": true,
    "jupyter": {
     "outputs_hidden": true
    },
    "tags": []
   },
   "outputs": [],
   "source": [
    "scaled_X_test = scaler_object.transform(X_test)"
   ]
  },
  {
   "cell_type": "markdown",
   "metadata": {},
   "source": [
    "Ok, now we have the data scaled!"
   ]
  },
  {
   "cell_type": "code",
   "execution_count": 23,
   "metadata": {
    "tags": []
   },
   "outputs": [
    {
     "data": {
      "text/plain": [
       "7.7"
      ]
     },
     "execution_count": 23,
     "metadata": {},
     "output_type": "execute_result"
    }
   ],
   "source": [
    "X_train.max()"
   ]
  },
  {
   "cell_type": "code",
   "execution_count": 24,
   "metadata": {
    "tags": []
   },
   "outputs": [
    {
     "data": {
      "text/plain": [
       "1.0"
      ]
     },
     "execution_count": 24,
     "metadata": {},
     "output_type": "execute_result"
    }
   ],
   "source": [
    "scaled_X_train.max()"
   ]
  },
  {
   "cell_type": "markdown",
   "metadata": {},
   "source": [
    "## Building the Network with Keras\n",
    "\n",
    "Let's build a simple neural network!"
   ]
  },
  {
   "cell_type": "code",
   "execution_count": 27,
   "metadata": {
    "tags": []
   },
   "outputs": [],
   "source": [
    "from keras.models import Sequential\n",
    "from keras.layers import Dense"
   ]
  },
  {
   "cell_type": "code",
   "execution_count": 28,
   "metadata": {
    "tags": []
   },
   "outputs": [],
   "source": [
    "model = Sequential()\n",
    "model.add(Dense(8, input_dim=4, activation='relu'))\n",
    "model.add(Dense(8, input_dim=4, activation='relu'))\n",
    "model.add(Dense(3, activation='softmax'))\n",
    "model.compile(loss='categorical_crossentropy', optimizer='adam', metrics=['accuracy'])"
   ]
  },
  {
   "cell_type": "code",
   "execution_count": 29,
   "metadata": {
    "tags": []
   },
   "outputs": [
    {
     "name": "stdout",
     "output_type": "stream",
     "text": [
      "Model: \"sequential\"\n",
      "_________________________________________________________________\n",
      " Layer (type)                Output Shape              Param #   \n",
      "=================================================================\n",
      " dense (Dense)               (None, 8)                 40        \n",
      "                                                                 \n",
      " dense_1 (Dense)             (None, 8)                 72        \n",
      "                                                                 \n",
      " dense_2 (Dense)             (None, 3)                 27        \n",
      "                                                                 \n",
      "=================================================================\n",
      "Total params: 139\n",
      "Trainable params: 139\n",
      "Non-trainable params: 0\n",
      "_________________________________________________________________\n"
     ]
    }
   ],
   "source": [
    "model.summary()"
   ]
  },
  {
   "cell_type": "markdown",
   "metadata": {},
   "source": [
    "## Fit (Train) the Model"
   ]
  },
  {
   "cell_type": "code",
   "execution_count": 32,
   "metadata": {
    "tags": []
   },
   "outputs": [
    {
     "name": "stdout",
     "output_type": "stream",
     "text": [
      "Epoch 1/150\n",
      "4/4 - 0s - loss: 0.1658 - accuracy: 0.9700 - 8ms/epoch - 2ms/step\n",
      "Epoch 2/150\n",
      "4/4 - 0s - loss: 0.1650 - accuracy: 0.9700 - 6ms/epoch - 1ms/step\n",
      "Epoch 3/150\n",
      "4/4 - 0s - loss: 0.1645 - accuracy: 0.9700 - 11ms/epoch - 3ms/step\n",
      "Epoch 4/150\n",
      "4/4 - 0s - loss: 0.1647 - accuracy: 0.9800 - 7ms/epoch - 2ms/step\n",
      "Epoch 5/150\n",
      "4/4 - 0s - loss: 0.1649 - accuracy: 0.9700 - 12ms/epoch - 3ms/step\n",
      "Epoch 6/150\n",
      "4/4 - 0s - loss: 0.1645 - accuracy: 0.9700 - 13ms/epoch - 3ms/step\n",
      "Epoch 7/150\n",
      "4/4 - 0s - loss: 0.1632 - accuracy: 0.9700 - 12ms/epoch - 3ms/step\n",
      "Epoch 8/150\n",
      "4/4 - 0s - loss: 0.1613 - accuracy: 0.9800 - 9ms/epoch - 2ms/step\n",
      "Epoch 9/150\n",
      "4/4 - 0s - loss: 0.1600 - accuracy: 0.9700 - 7ms/epoch - 2ms/step\n",
      "Epoch 10/150\n",
      "4/4 - 0s - loss: 0.1583 - accuracy: 0.9700 - 10ms/epoch - 2ms/step\n",
      "Epoch 11/150\n",
      "4/4 - 0s - loss: 0.1584 - accuracy: 0.9700 - 9ms/epoch - 2ms/step\n",
      "Epoch 12/150\n",
      "4/4 - 0s - loss: 0.1584 - accuracy: 0.9700 - 6ms/epoch - 1ms/step\n",
      "Epoch 13/150\n",
      "4/4 - 0s - loss: 0.1569 - accuracy: 0.9700 - 11ms/epoch - 3ms/step\n",
      "Epoch 14/150\n",
      "4/4 - 0s - loss: 0.1555 - accuracy: 0.9700 - 6ms/epoch - 2ms/step\n",
      "Epoch 15/150\n",
      "4/4 - 0s - loss: 0.1543 - accuracy: 0.9700 - 7ms/epoch - 2ms/step\n",
      "Epoch 16/150\n",
      "4/4 - 0s - loss: 0.1560 - accuracy: 0.9700 - 8ms/epoch - 2ms/step\n",
      "Epoch 17/150\n",
      "4/4 - 0s - loss: 0.1555 - accuracy: 0.9700 - 6ms/epoch - 2ms/step\n",
      "Epoch 18/150\n",
      "4/4 - 0s - loss: 0.1539 - accuracy: 0.9800 - 8ms/epoch - 2ms/step\n",
      "Epoch 19/150\n",
      "4/4 - 0s - loss: 0.1528 - accuracy: 0.9700 - 6ms/epoch - 1ms/step\n",
      "Epoch 20/150\n",
      "4/4 - 0s - loss: 0.1508 - accuracy: 0.9700 - 8ms/epoch - 2ms/step\n",
      "Epoch 21/150\n",
      "4/4 - 0s - loss: 0.1505 - accuracy: 0.9700 - 8ms/epoch - 2ms/step\n",
      "Epoch 22/150\n",
      "4/4 - 0s - loss: 0.1504 - accuracy: 0.9700 - 7ms/epoch - 2ms/step\n",
      "Epoch 23/150\n",
      "4/4 - 0s - loss: 0.1491 - accuracy: 0.9700 - 11ms/epoch - 3ms/step\n",
      "Epoch 24/150\n",
      "4/4 - 0s - loss: 0.1496 - accuracy: 0.9800 - 9ms/epoch - 2ms/step\n",
      "Epoch 25/150\n",
      "4/4 - 0s - loss: 0.1476 - accuracy: 0.9700 - 7ms/epoch - 2ms/step\n",
      "Epoch 26/150\n",
      "4/4 - 0s - loss: 0.1465 - accuracy: 0.9700 - 12ms/epoch - 3ms/step\n",
      "Epoch 27/150\n",
      "4/4 - 0s - loss: 0.1478 - accuracy: 0.9700 - 10ms/epoch - 2ms/step\n",
      "Epoch 28/150\n",
      "4/4 - 0s - loss: 0.1481 - accuracy: 0.9700 - 7ms/epoch - 2ms/step\n",
      "Epoch 29/150\n",
      "4/4 - 0s - loss: 0.1473 - accuracy: 0.9700 - 8ms/epoch - 2ms/step\n",
      "Epoch 30/150\n",
      "4/4 - 0s - loss: 0.1482 - accuracy: 0.9700 - 12ms/epoch - 3ms/step\n",
      "Epoch 31/150\n",
      "4/4 - 0s - loss: 0.1462 - accuracy: 0.9700 - 11ms/epoch - 3ms/step\n",
      "Epoch 32/150\n",
      "4/4 - 0s - loss: 0.1441 - accuracy: 0.9700 - 10ms/epoch - 2ms/step\n",
      "Epoch 33/150\n",
      "4/4 - 0s - loss: 0.1424 - accuracy: 0.9700 - 10ms/epoch - 3ms/step\n",
      "Epoch 34/150\n",
      "4/4 - 0s - loss: 0.1420 - accuracy: 0.9700 - 7ms/epoch - 2ms/step\n",
      "Epoch 35/150\n",
      "4/4 - 0s - loss: 0.1414 - accuracy: 0.9700 - 9ms/epoch - 2ms/step\n",
      "Epoch 36/150\n",
      "4/4 - 0s - loss: 0.1409 - accuracy: 0.9700 - 8ms/epoch - 2ms/step\n",
      "Epoch 37/150\n",
      "4/4 - 0s - loss: 0.1402 - accuracy: 0.9700 - 6ms/epoch - 1ms/step\n",
      "Epoch 38/150\n",
      "4/4 - 0s - loss: 0.1404 - accuracy: 0.9700 - 9ms/epoch - 2ms/step\n",
      "Epoch 39/150\n",
      "4/4 - 0s - loss: 0.1388 - accuracy: 0.9700 - 6ms/epoch - 1ms/step\n",
      "Epoch 40/150\n",
      "4/4 - 0s - loss: 0.1382 - accuracy: 0.9700 - 10ms/epoch - 2ms/step\n",
      "Epoch 41/150\n",
      "4/4 - 0s - loss: 0.1380 - accuracy: 0.9700 - 8ms/epoch - 2ms/step\n",
      "Epoch 42/150\n",
      "4/4 - 0s - loss: 0.1372 - accuracy: 0.9700 - 7ms/epoch - 2ms/step\n",
      "Epoch 43/150\n",
      "4/4 - 0s - loss: 0.1366 - accuracy: 0.9700 - 11ms/epoch - 3ms/step\n",
      "Epoch 44/150\n",
      "4/4 - 0s - loss: 0.1361 - accuracy: 0.9700 - 8ms/epoch - 2ms/step\n",
      "Epoch 45/150\n",
      "4/4 - 0s - loss: 0.1354 - accuracy: 0.9700 - 6ms/epoch - 1ms/step\n",
      "Epoch 46/150\n",
      "4/4 - 0s - loss: 0.1355 - accuracy: 0.9700 - 9ms/epoch - 2ms/step\n",
      "Epoch 47/150\n",
      "4/4 - 0s - loss: 0.1351 - accuracy: 0.9700 - 7ms/epoch - 2ms/step\n",
      "Epoch 48/150\n",
      "4/4 - 0s - loss: 0.1347 - accuracy: 0.9700 - 7ms/epoch - 2ms/step\n",
      "Epoch 49/150\n",
      "4/4 - 0s - loss: 0.1346 - accuracy: 0.9700 - 10ms/epoch - 3ms/step\n",
      "Epoch 50/150\n",
      "4/4 - 0s - loss: 0.1340 - accuracy: 0.9700 - 6ms/epoch - 2ms/step\n",
      "Epoch 51/150\n",
      "4/4 - 0s - loss: 0.1328 - accuracy: 0.9700 - 9ms/epoch - 2ms/step\n",
      "Epoch 52/150\n",
      "4/4 - 0s - loss: 0.1320 - accuracy: 0.9700 - 10ms/epoch - 2ms/step\n",
      "Epoch 53/150\n",
      "4/4 - 0s - loss: 0.1316 - accuracy: 0.9700 - 7ms/epoch - 2ms/step\n",
      "Epoch 54/150\n",
      "4/4 - 0s - loss: 0.1309 - accuracy: 0.9700 - 11ms/epoch - 3ms/step\n",
      "Epoch 55/150\n",
      "4/4 - 0s - loss: 0.1310 - accuracy: 0.9800 - 13ms/epoch - 3ms/step\n",
      "Epoch 56/150\n",
      "4/4 - 0s - loss: 0.1305 - accuracy: 0.9800 - 11ms/epoch - 3ms/step\n",
      "Epoch 57/150\n",
      "4/4 - 0s - loss: 0.1295 - accuracy: 0.9700 - 21ms/epoch - 5ms/step\n",
      "Epoch 58/150\n",
      "4/4 - 0s - loss: 0.1287 - accuracy: 0.9700 - 11ms/epoch - 3ms/step\n",
      "Epoch 59/150\n",
      "4/4 - 0s - loss: 0.1285 - accuracy: 0.9700 - 14ms/epoch - 3ms/step\n",
      "Epoch 60/150\n",
      "4/4 - 0s - loss: 0.1279 - accuracy: 0.9700 - 10ms/epoch - 2ms/step\n",
      "Epoch 61/150\n",
      "4/4 - 0s - loss: 0.1273 - accuracy: 0.9700 - 10ms/epoch - 2ms/step\n",
      "Epoch 62/150\n",
      "4/4 - 0s - loss: 0.1283 - accuracy: 0.9800 - 10ms/epoch - 2ms/step\n",
      "Epoch 63/150\n",
      "4/4 - 0s - loss: 0.1271 - accuracy: 0.9700 - 13ms/epoch - 3ms/step\n",
      "Epoch 64/150\n",
      "4/4 - 0s - loss: 0.1261 - accuracy: 0.9700 - 11ms/epoch - 3ms/step\n",
      "Epoch 65/150\n",
      "4/4 - 0s - loss: 0.1257 - accuracy: 0.9700 - 7ms/epoch - 2ms/step\n",
      "Epoch 66/150\n",
      "4/4 - 0s - loss: 0.1259 - accuracy: 0.9700 - 11ms/epoch - 3ms/step\n",
      "Epoch 67/150\n",
      "4/4 - 0s - loss: 0.1247 - accuracy: 0.9700 - 10ms/epoch - 3ms/step\n",
      "Epoch 68/150\n",
      "4/4 - 0s - loss: 0.1250 - accuracy: 0.9700 - 8ms/epoch - 2ms/step\n",
      "Epoch 69/150\n",
      "4/4 - 0s - loss: 0.1251 - accuracy: 0.9700 - 8ms/epoch - 2ms/step\n",
      "Epoch 70/150\n",
      "4/4 - 0s - loss: 0.1239 - accuracy: 0.9700 - 11ms/epoch - 3ms/step\n",
      "Epoch 71/150\n",
      "4/4 - 0s - loss: 0.1234 - accuracy: 0.9700 - 12ms/epoch - 3ms/step\n",
      "Epoch 72/150\n",
      "4/4 - 0s - loss: 0.1229 - accuracy: 0.9700 - 10ms/epoch - 3ms/step\n",
      "Epoch 73/150\n",
      "4/4 - 0s - loss: 0.1230 - accuracy: 0.9700 - 6ms/epoch - 1ms/step\n",
      "Epoch 74/150\n",
      "4/4 - 0s - loss: 0.1229 - accuracy: 0.9700 - 15ms/epoch - 4ms/step\n",
      "Epoch 75/150\n",
      "4/4 - 0s - loss: 0.1222 - accuracy: 0.9700 - 7ms/epoch - 2ms/step\n",
      "Epoch 76/150\n",
      "4/4 - 0s - loss: 0.1216 - accuracy: 0.9700 - 5ms/epoch - 1ms/step\n",
      "Epoch 77/150\n",
      "4/4 - 0s - loss: 0.1206 - accuracy: 0.9800 - 8ms/epoch - 2ms/step\n",
      "Epoch 78/150\n",
      "4/4 - 0s - loss: 0.1225 - accuracy: 0.9700 - 6ms/epoch - 1ms/step\n",
      "Epoch 79/150\n",
      "4/4 - 0s - loss: 0.1231 - accuracy: 0.9700 - 7ms/epoch - 2ms/step\n",
      "Epoch 80/150\n",
      "4/4 - 0s - loss: 0.1215 - accuracy: 0.9700 - 9ms/epoch - 2ms/step\n",
      "Epoch 81/150\n",
      "4/4 - 0s - loss: 0.1189 - accuracy: 0.9800 - 8ms/epoch - 2ms/step\n",
      "Epoch 82/150\n",
      "4/4 - 0s - loss: 0.1179 - accuracy: 0.9700 - 8ms/epoch - 2ms/step\n",
      "Epoch 83/150\n",
      "4/4 - 0s - loss: 0.1188 - accuracy: 0.9700 - 11ms/epoch - 3ms/step\n",
      "Epoch 84/150\n",
      "4/4 - 0s - loss: 0.1189 - accuracy: 0.9700 - 7ms/epoch - 2ms/step\n",
      "Epoch 85/150\n",
      "4/4 - 0s - loss: 0.1182 - accuracy: 0.9700 - 7ms/epoch - 2ms/step\n",
      "Epoch 86/150\n",
      "4/4 - 0s - loss: 0.1173 - accuracy: 0.9700 - 12ms/epoch - 3ms/step\n",
      "Epoch 87/150\n",
      "4/4 - 0s - loss: 0.1167 - accuracy: 0.9700 - 7ms/epoch - 2ms/step\n",
      "Epoch 88/150\n",
      "4/4 - 0s - loss: 0.1160 - accuracy: 0.9700 - 6ms/epoch - 1ms/step\n",
      "Epoch 89/150\n",
      "4/4 - 0s - loss: 0.1157 - accuracy: 0.9700 - 11ms/epoch - 3ms/step\n",
      "Epoch 90/150\n",
      "4/4 - 0s - loss: 0.1152 - accuracy: 0.9700 - 7ms/epoch - 2ms/step\n",
      "Epoch 91/150\n",
      "4/4 - 0s - loss: 0.1149 - accuracy: 0.9700 - 8ms/epoch - 2ms/step\n",
      "Epoch 92/150\n",
      "4/4 - 0s - loss: 0.1145 - accuracy: 0.9700 - 13ms/epoch - 3ms/step\n",
      "Epoch 93/150\n",
      "4/4 - 0s - loss: 0.1140 - accuracy: 0.9700 - 23ms/epoch - 6ms/step\n",
      "Epoch 94/150\n",
      "4/4 - 0s - loss: 0.1139 - accuracy: 0.9700 - 7ms/epoch - 2ms/step\n",
      "Epoch 95/150\n",
      "4/4 - 0s - loss: 0.1135 - accuracy: 0.9700 - 13ms/epoch - 3ms/step\n",
      "Epoch 96/150\n",
      "4/4 - 0s - loss: 0.1137 - accuracy: 0.9800 - 10ms/epoch - 2ms/step\n",
      "Epoch 97/150\n",
      "4/4 - 0s - loss: 0.1131 - accuracy: 0.9800 - 6ms/epoch - 2ms/step\n",
      "Epoch 98/150\n",
      "4/4 - 0s - loss: 0.1125 - accuracy: 0.9700 - 6ms/epoch - 1ms/step\n",
      "Epoch 99/150\n",
      "4/4 - 0s - loss: 0.1123 - accuracy: 0.9700 - 11ms/epoch - 3ms/step\n",
      "Epoch 100/150\n",
      "4/4 - 0s - loss: 0.1125 - accuracy: 0.9700 - 7ms/epoch - 2ms/step\n",
      "Epoch 101/150\n",
      "4/4 - 0s - loss: 0.1124 - accuracy: 0.9700 - 6ms/epoch - 1ms/step\n",
      "Epoch 102/150\n",
      "4/4 - 0s - loss: 0.1121 - accuracy: 0.9700 - 11ms/epoch - 3ms/step\n",
      "Epoch 103/150\n",
      "4/4 - 0s - loss: 0.1115 - accuracy: 0.9700 - 6ms/epoch - 1ms/step\n",
      "Epoch 104/150\n",
      "4/4 - 0s - loss: 0.1108 - accuracy: 0.9700 - 6ms/epoch - 1ms/step\n",
      "Epoch 105/150\n",
      "4/4 - 0s - loss: 0.1100 - accuracy: 0.9700 - 8ms/epoch - 2ms/step\n",
      "Epoch 106/150\n",
      "4/4 - 0s - loss: 0.1084 - accuracy: 0.9800 - 7ms/epoch - 2ms/step\n",
      "Epoch 107/150\n",
      "4/4 - 0s - loss: 0.1134 - accuracy: 0.9800 - 8ms/epoch - 2ms/step\n",
      "Epoch 108/150\n",
      "4/4 - 0s - loss: 0.1161 - accuracy: 0.9800 - 7ms/epoch - 2ms/step\n",
      "Epoch 109/150\n",
      "4/4 - 0s - loss: 0.1177 - accuracy: 0.9700 - 10ms/epoch - 2ms/step\n",
      "Epoch 110/150\n",
      "4/4 - 0s - loss: 0.1153 - accuracy: 0.9800 - 7ms/epoch - 2ms/step\n",
      "Epoch 111/150\n",
      "4/4 - 0s - loss: 0.1112 - accuracy: 0.9700 - 7ms/epoch - 2ms/step\n",
      "Epoch 112/150\n",
      "4/4 - 0s - loss: 0.1086 - accuracy: 0.9800 - 8ms/epoch - 2ms/step\n",
      "Epoch 113/150\n",
      "4/4 - 0s - loss: 0.1073 - accuracy: 0.9700 - 6ms/epoch - 1ms/step\n",
      "Epoch 114/150\n",
      "4/4 - 0s - loss: 0.1073 - accuracy: 0.9700 - 9ms/epoch - 2ms/step\n",
      "Epoch 115/150\n",
      "4/4 - 0s - loss: 0.1072 - accuracy: 0.9700 - 7ms/epoch - 2ms/step\n",
      "Epoch 116/150\n",
      "4/4 - 0s - loss: 0.1064 - accuracy: 0.9700 - 7ms/epoch - 2ms/step\n",
      "Epoch 117/150\n",
      "4/4 - 0s - loss: 0.1060 - accuracy: 0.9700 - 9ms/epoch - 2ms/step\n",
      "Epoch 118/150\n",
      "4/4 - 0s - loss: 0.1056 - accuracy: 0.9700 - 9ms/epoch - 2ms/step\n",
      "Epoch 119/150\n",
      "4/4 - 0s - loss: 0.1053 - accuracy: 0.9700 - 10ms/epoch - 2ms/step\n",
      "Epoch 120/150\n",
      "4/4 - 0s - loss: 0.1051 - accuracy: 0.9700 - 11ms/epoch - 3ms/step\n",
      "Epoch 121/150\n",
      "4/4 - 0s - loss: 0.1047 - accuracy: 0.9800 - 8ms/epoch - 2ms/step\n",
      "Epoch 122/150\n",
      "4/4 - 0s - loss: 0.1053 - accuracy: 0.9800 - 7ms/epoch - 2ms/step\n",
      "Epoch 123/150\n",
      "4/4 - 0s - loss: 0.1045 - accuracy: 0.9800 - 9ms/epoch - 2ms/step\n",
      "Epoch 124/150\n",
      "4/4 - 0s - loss: 0.1040 - accuracy: 0.9700 - 7ms/epoch - 2ms/step\n",
      "Epoch 125/150\n",
      "4/4 - 0s - loss: 0.1046 - accuracy: 0.9800 - 9ms/epoch - 2ms/step\n",
      "Epoch 126/150\n",
      "4/4 - 0s - loss: 0.1037 - accuracy: 0.9800 - 9ms/epoch - 2ms/step\n",
      "Epoch 127/150\n",
      "4/4 - 0s - loss: 0.1036 - accuracy: 0.9800 - 11ms/epoch - 3ms/step\n",
      "Epoch 128/150\n",
      "4/4 - 0s - loss: 0.1025 - accuracy: 0.9800 - 6ms/epoch - 1ms/step\n",
      "Epoch 129/150\n",
      "4/4 - 0s - loss: 0.1024 - accuracy: 0.9700 - 9ms/epoch - 2ms/step\n",
      "Epoch 130/150\n",
      "4/4 - 0s - loss: 0.1023 - accuracy: 0.9700 - 11ms/epoch - 3ms/step\n",
      "Epoch 131/150\n",
      "4/4 - 0s - loss: 0.1025 - accuracy: 0.9800 - 7ms/epoch - 2ms/step\n",
      "Epoch 132/150\n",
      "4/4 - 0s - loss: 0.1017 - accuracy: 0.9800 - 6ms/epoch - 1ms/step\n",
      "Epoch 133/150\n",
      "4/4 - 0s - loss: 0.1014 - accuracy: 0.9800 - 11ms/epoch - 3ms/step\n",
      "Epoch 134/150\n",
      "4/4 - 0s - loss: 0.1015 - accuracy: 0.9800 - 7ms/epoch - 2ms/step\n",
      "Epoch 135/150\n",
      "4/4 - 0s - loss: 0.1012 - accuracy: 0.9800 - 9ms/epoch - 2ms/step\n",
      "Epoch 136/150\n",
      "4/4 - 0s - loss: 0.1009 - accuracy: 0.9800 - 8ms/epoch - 2ms/step\n",
      "Epoch 137/150\n",
      "4/4 - 0s - loss: 0.1011 - accuracy: 0.9800 - 22ms/epoch - 5ms/step\n",
      "Epoch 138/150\n",
      "4/4 - 0s - loss: 0.1009 - accuracy: 0.9700 - 15ms/epoch - 4ms/step\n",
      "Epoch 139/150\n",
      "4/4 - 0s - loss: 0.1009 - accuracy: 0.9700 - 13ms/epoch - 3ms/step\n",
      "Epoch 140/150\n",
      "4/4 - 0s - loss: 0.1010 - accuracy: 0.9700 - 12ms/epoch - 3ms/step\n",
      "Epoch 141/150\n",
      "4/4 - 0s - loss: 0.1015 - accuracy: 0.9700 - 9ms/epoch - 2ms/step\n",
      "Epoch 142/150\n",
      "4/4 - 0s - loss: 0.1006 - accuracy: 0.9700 - 7ms/epoch - 2ms/step\n",
      "Epoch 143/150\n",
      "4/4 - 0s - loss: 0.0991 - accuracy: 0.9700 - 9ms/epoch - 2ms/step\n",
      "Epoch 144/150\n",
      "4/4 - 0s - loss: 0.0980 - accuracy: 0.9700 - 11ms/epoch - 3ms/step\n",
      "Epoch 145/150\n",
      "4/4 - 0s - loss: 0.0990 - accuracy: 0.9800 - 7ms/epoch - 2ms/step\n",
      "Epoch 146/150\n",
      "4/4 - 0s - loss: 0.0987 - accuracy: 0.9800 - 8ms/epoch - 2ms/step\n",
      "Epoch 147/150\n",
      "4/4 - 0s - loss: 0.0985 - accuracy: 0.9800 - 8ms/epoch - 2ms/step\n",
      "Epoch 148/150\n",
      "4/4 - 0s - loss: 0.0996 - accuracy: 0.9700 - 10ms/epoch - 3ms/step\n",
      "Epoch 149/150\n",
      "4/4 - 0s - loss: 0.0993 - accuracy: 0.9700 - 6ms/epoch - 2ms/step\n",
      "Epoch 150/150\n",
      "4/4 - 0s - loss: 0.0985 - accuracy: 0.9800 - 9ms/epoch - 2ms/step\n"
     ]
    },
    {
     "data": {
      "text/plain": [
       "<keras.callbacks.History at 0x1af9c58a548>"
      ]
     },
     "execution_count": 32,
     "metadata": {},
     "output_type": "execute_result"
    }
   ],
   "source": [
    "# Play around with number of epochs as well!\n",
    "model.fit(scaled_X_train,y_train,epochs=150, verbose=2)"
   ]
  },
  {
   "cell_type": "markdown",
   "metadata": {},
   "source": [
    "## Predicting New Unseen Data\n",
    "\n",
    "Let's see how we did by predicting on **new data**. Remember, our model has **never** seen the test data that we scaled previously! This process is the exact same process you would use on totally brand new data. For example , a brand new bank note that you just analyzed ."
   ]
  },
  {
   "cell_type": "code",
   "execution_count": 36,
   "metadata": {
    "tags": []
   },
   "outputs": [
    {
     "name": "stdout",
     "output_type": "stream",
     "text": [
      "2/2 [==============================] - 0s 2ms/step\n"
     ]
    },
    {
     "data": {
      "text/plain": [
       "array([[7.20355194e-04, 9.64969695e-01, 3.43100056e-02],\n",
       "       [9.89779294e-01, 1.01939812e-02, 2.68205877e-05],\n",
       "       [4.67295430e-12, 1.75558846e-04, 9.99824464e-01],\n",
       "       [3.08309041e-04, 8.95670295e-01, 1.04021296e-01],\n",
       "       [1.20380806e-04, 8.61629248e-01, 1.38250351e-01],\n",
       "       [9.80084836e-01, 1.98501628e-02, 6.49221402e-05],\n",
       "       [8.98364652e-03, 9.76746976e-01, 1.42693566e-02],\n",
       "       [1.02228519e-07, 3.01333722e-02, 9.69866514e-01],\n",
       "       [3.28417809e-05, 3.67596269e-01, 6.32370949e-01],\n",
       "       [3.73786804e-03, 9.76619065e-01, 1.96430273e-02],\n",
       "       [4.46851891e-06, 2.51997292e-01, 7.47998297e-01],\n",
       "       [9.80881691e-01, 1.89895071e-02, 1.28807747e-04],\n",
       "       [9.88284945e-01, 1.16721652e-02, 4.28312160e-05],\n",
       "       [9.82587397e-01, 1.73058044e-02, 1.06848107e-04],\n",
       "       [9.90080774e-01, 9.89091769e-03, 2.83620666e-05],\n",
       "       [3.13204218e-04, 9.30121303e-01, 6.95654675e-02],\n",
       "       [1.81714679e-08, 1.19588105e-02, 9.88041162e-01],\n",
       "       [4.60971193e-03, 9.73339558e-01, 2.20508184e-02],\n",
       "       [8.23531649e-04, 9.55721259e-01, 4.34552878e-02],\n",
       "       [1.35872975e-08, 8.02467670e-03, 9.91975248e-01],\n",
       "       [9.83162642e-01, 1.67438518e-02, 9.35122880e-05],\n",
       "       [2.50969078e-05, 4.61360037e-01, 5.38614869e-01],\n",
       "       [9.82339680e-01, 1.75954830e-02, 6.48989662e-05],\n",
       "       [3.86576851e-08, 1.53689850e-02, 9.84631002e-01],\n",
       "       [5.92617539e-07, 2.09405005e-01, 7.90594399e-01],\n",
       "       [4.84382348e-08, 1.76688042e-02, 9.82331157e-01],\n",
       "       [6.43916280e-08, 2.37845331e-02, 9.76215363e-01],\n",
       "       [1.04603473e-08, 1.09326644e-02, 9.89067256e-01],\n",
       "       [9.74137306e-01, 2.57217381e-02, 1.41020588e-04],\n",
       "       [9.79339063e-01, 2.05441471e-02, 1.16762800e-04],\n",
       "       [9.88219142e-01, 1.17373290e-02, 4.34292779e-05],\n",
       "       [9.93878424e-01, 6.11304212e-03, 8.57904524e-06],\n",
       "       [6.54668256e-04, 9.74090576e-01, 2.52547655e-02],\n",
       "       [9.86281216e-01, 1.36554316e-02, 6.33313393e-05],\n",
       "       [9.83987093e-01, 1.59200132e-02, 9.28791997e-05],\n",
       "       [5.67821530e-07, 5.11986576e-02, 9.48800802e-01],\n",
       "       [5.36499429e-04, 9.61085498e-01, 3.83779146e-02],\n",
       "       [9.87761140e-01, 1.21911680e-02, 4.77340400e-05],\n",
       "       [9.88391280e-01, 1.15668923e-02, 4.18755117e-05],\n",
       "       [9.91636574e-01, 8.34484398e-03, 1.85851277e-05],\n",
       "       [1.71185104e-06, 9.14969295e-02, 9.08501327e-01],\n",
       "       [7.48097955e-04, 9.65082586e-01, 3.41692567e-02],\n",
       "       [2.23580297e-04, 9.22002435e-01, 7.77739435e-02],\n",
       "       [9.91295576e-01, 8.68381653e-03, 2.05188280e-05],\n",
       "       [9.89507854e-01, 1.04596466e-02, 3.25956062e-05],\n",
       "       [1.10770985e-02, 9.71875608e-01, 1.70473773e-02],\n",
       "       [4.96755674e-05, 6.63849473e-01, 3.36100787e-01],\n",
       "       [5.00273700e-06, 2.96608418e-01, 7.03386605e-01],\n",
       "       [5.33457147e-04, 9.63773429e-01, 3.56930718e-02],\n",
       "       [4.07337053e-09, 9.26558394e-03, 9.90734458e-01]], dtype=float32)"
      ]
     },
     "execution_count": 36,
     "metadata": {},
     "output_type": "execute_result"
    }
   ],
   "source": [
    "# Spits out probabilities by default.\n",
    "model.predict(scaled_X_test)"
   ]
  },
  {
   "cell_type": "code",
   "execution_count": 39,
   "metadata": {
    "tags": []
   },
   "outputs": [
    {
     "name": "stdout",
     "output_type": "stream",
     "text": [
      "2/2 [==============================] - 0s 4ms/step\n"
     ]
    },
    {
     "data": {
      "text/plain": [
       "array([1, 0, 2, 1, 1, 0, 1, 2, 2, 1, 2, 0, 0, 0, 0, 1, 2, 1, 1, 2, 0, 2,\n",
       "       0, 2, 2, 2, 2, 2, 0, 0, 0, 0, 1, 0, 0, 2, 1, 0, 0, 0, 2, 1, 1, 0,\n",
       "       0, 1, 1, 2, 1, 2], dtype=int64)"
      ]
     },
     "execution_count": 39,
     "metadata": {},
     "output_type": "execute_result"
    }
   ],
   "source": [
    "np.argmax(model.predict(scaled_X_test),axis=1)"
   ]
  },
  {
   "cell_type": "markdown",
   "metadata": {},
   "source": [
    "# Evaluating Model Performance\n",
    "\n",
    "So how well did we do? How do we actually measure \"well\". Is 95% accuracy good enough? It all depends on the situation. Also we need to take into account things like recall and precision. Make sure to watch the video discussion on classification evaluation before running this code!"
   ]
  },
  {
   "cell_type": "code",
   "execution_count": 40,
   "metadata": {
    "tags": []
   },
   "outputs": [
    {
     "data": {
      "text/plain": [
       "['loss', 'accuracy']"
      ]
     },
     "execution_count": 40,
     "metadata": {},
     "output_type": "execute_result"
    }
   ],
   "source": [
    "model.metrics_names"
   ]
  },
  {
   "cell_type": "code",
   "execution_count": 41,
   "metadata": {
    "tags": []
   },
   "outputs": [
    {
     "name": "stdout",
     "output_type": "stream",
     "text": [
      "2/2 [==============================] - 0s 3ms/step - loss: 0.0974 - accuracy: 0.9600\n"
     ]
    },
    {
     "data": {
      "text/plain": [
       "[0.09738905727863312, 0.9599999785423279]"
      ]
     },
     "execution_count": 41,
     "metadata": {},
     "output_type": "execute_result"
    }
   ],
   "source": [
    "model.evaluate(x=scaled_X_test,y=y_test)"
   ]
  },
  {
   "cell_type": "code",
   "execution_count": 42,
   "metadata": {
    "collapsed": true,
    "jupyter": {
     "outputs_hidden": true
    },
    "tags": []
   },
   "outputs": [],
   "source": [
    "from sklearn.metrics import confusion_matrix,classification_report"
   ]
  },
  {
   "cell_type": "code",
   "execution_count": 43,
   "metadata": {
    "collapsed": true,
    "jupyter": {
     "outputs_hidden": true
    },
    "tags": []
   },
   "outputs": [
    {
     "name": "stdout",
     "output_type": "stream",
     "text": [
      "2/2 [==============================] - 0s 2ms/step\n"
     ]
    }
   ],
   "source": [
    "predictions = np.argmax(model.predict(scaled_X_test),axis=1)"
   ]
  },
  {
   "cell_type": "code",
   "execution_count": 44,
   "metadata": {
    "tags": []
   },
   "outputs": [
    {
     "data": {
      "text/plain": [
       "array([1, 0, 2, 1, 1, 0, 1, 2, 2, 1, 2, 0, 0, 0, 0, 1, 2, 1, 1, 2, 0, 2,\n",
       "       0, 2, 2, 2, 2, 2, 0, 0, 0, 0, 1, 0, 0, 2, 1, 0, 0, 0, 2, 1, 1, 0,\n",
       "       0, 1, 1, 2, 1, 2], dtype=int64)"
      ]
     },
     "execution_count": 44,
     "metadata": {},
     "output_type": "execute_result"
    }
   ],
   "source": [
    "predictions"
   ]
  },
  {
   "cell_type": "code",
   "execution_count": 45,
   "metadata": {
    "tags": []
   },
   "outputs": [
    {
     "data": {
      "text/plain": [
       "array([1, 0, 2, 1, 1, 0, 1, 2, 1, 1, 2, 0, 0, 0, 0, 1, 2, 1, 1, 2, 0, 2,\n",
       "       0, 2, 2, 2, 2, 2, 0, 0, 0, 0, 1, 0, 0, 2, 1, 0, 0, 0, 2, 1, 1, 0,\n",
       "       0, 1, 2, 2, 1, 2], dtype=int64)"
      ]
     },
     "execution_count": 45,
     "metadata": {},
     "output_type": "execute_result"
    }
   ],
   "source": [
    "y_test.argmax(axis=1)"
   ]
  },
  {
   "cell_type": "code",
   "execution_count": 46,
   "metadata": {
    "tags": []
   },
   "outputs": [
    {
     "data": {
      "text/plain": [
       "array([[19,  0,  0],\n",
       "       [ 0, 14,  1],\n",
       "       [ 0,  1, 15]], dtype=int64)"
      ]
     },
     "execution_count": 46,
     "metadata": {},
     "output_type": "execute_result"
    }
   ],
   "source": [
    "confusion_matrix(y_test.argmax(axis=1),predictions)"
   ]
  },
  {
   "cell_type": "code",
   "execution_count": 47,
   "metadata": {
    "tags": []
   },
   "outputs": [
    {
     "name": "stdout",
     "output_type": "stream",
     "text": [
      "              precision    recall  f1-score   support\n",
      "\n",
      "           0       1.00      1.00      1.00        19\n",
      "           1       0.93      0.93      0.93        15\n",
      "           2       0.94      0.94      0.94        16\n",
      "\n",
      "    accuracy                           0.96        50\n",
      "   macro avg       0.96      0.96      0.96        50\n",
      "weighted avg       0.96      0.96      0.96        50\n",
      "\n"
     ]
    }
   ],
   "source": [
    "print(classification_report(y_test.argmax(axis=1),predictions))"
   ]
  },
  {
   "cell_type": "markdown",
   "metadata": {},
   "source": [
    "## Saving and Loading Models\n",
    "\n",
    "Now that we have a model trained, let's see how we can save and load it."
   ]
  },
  {
   "cell_type": "code",
   "execution_count": 166,
   "metadata": {
    "collapsed": true,
    "jupyter": {
     "outputs_hidden": true
    }
   },
   "outputs": [],
   "source": [
    "model.save('myfirstmodel.h5')"
   ]
  },
  {
   "cell_type": "code",
   "execution_count": 167,
   "metadata": {
    "collapsed": true,
    "jupyter": {
     "outputs_hidden": true
    }
   },
   "outputs": [],
   "source": [
    "from keras.models import load_model"
   ]
  },
  {
   "cell_type": "code",
   "execution_count": 168,
   "metadata": {
    "collapsed": true,
    "jupyter": {
     "outputs_hidden": true
    }
   },
   "outputs": [],
   "source": [
    "newmodel = load_model('myfirstmodel.h5')"
   ]
  },
  {
   "cell_type": "code",
   "execution_count": 169,
   "metadata": {},
   "outputs": [
    {
     "data": {
      "text/plain": [
       "array([2, 1, 2, 2, 2, 1, 2, 2, 2, 2, 2, 1, 1, 1, 1, 2, 2, 2, 2, 2, 1, 2,\n",
       "       1, 2, 2, 2, 2, 2, 1, 1, 1, 1, 2, 1, 1, 2, 2, 1, 1, 1, 2, 2, 2, 1,\n",
       "       1, 2, 2, 2, 2, 2], dtype=int64)"
      ]
     },
     "execution_count": 169,
     "metadata": {},
     "output_type": "execute_result"
    }
   ],
   "source": [
    "newmodel.predict_classes(X_test)"
   ]
  },
  {
   "cell_type": "markdown",
   "metadata": {},
   "source": [
    "Great job! You now know how to preprocess data, train a neural network, and evaluate its classification performance!"
   ]
  }
 ],
 "metadata": {
  "kernelspec": {
   "display_name": "Python 3 (ipykernel)",
   "language": "python",
   "name": "python3"
  },
  "language_info": {
   "codemirror_mode": {
    "name": "ipython",
    "version": 3
   },
   "file_extension": ".py",
   "mimetype": "text/x-python",
   "name": "python",
   "nbconvert_exporter": "python",
   "pygments_lexer": "ipython3",
   "version": "3.7.4"
  }
 },
 "nbformat": 4,
 "nbformat_minor": 4
}
